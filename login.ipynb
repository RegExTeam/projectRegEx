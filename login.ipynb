{
 "cells": [
  {
   "cell_type": "code",
   "execution_count": 10,
   "metadata": {},
   "outputs": [],
   "source": [
    "import mysql.connector\n",
    "mydb = mysql.connector.connect(\n",
    "    host=\"35.223.161.145\",\n",
    "    user=\"root\",\n",
    "    password=\"\"\n",
    "    )\n",
    "\n",
    "mycursor = mydb.cursor()\n",
    "mycursor.execute(\"use flashcards\")\n",
    "\n",
    "def get_user(username):\n",
    "    sql = \"SELECT * FROM users WHERE username = %s\"\n",
    "    val=(username, )\n",
    "    mycursor.execute(sql,val)\n",
    "    myresult = mycursor.fetchall()\n",
    "    if len(myresult) == 0:\n",
    "        return None\n",
    "    else:\n",
    "        print (myresult)\n",
    "        x= (myresult[0])\n",
    "        print(x[0])\n",
    "        return myresult[0]\n",
    "\n",
    "\n"
   ]
  },
  {
   "cell_type": "code",
   "execution_count": 8,
   "metadata": {},
   "outputs": [],
   "source": [
    "#function to get user\n",
    "def login(username, password):\n",
    "    user=get_user(username)\n",
    "    if user == None:\n",
    "        return False\n",
    "    else:\n",
    "        if (user[2] == password):\n",
    "            print (user[2])\n",
    "            return True\n",
    "        else:\n",
    "            return False\n",
    "\n",
    "    \n"
   ]
  },
  {
   "cell_type": "code",
   "execution_count": 11,
   "metadata": {},
   "outputs": [
    {
     "name": "stdout",
     "output_type": "stream",
     "text": [
      "[(1, 'Allie', 'Password123', 'allie@gmail.com')]\n",
      "1\n",
      "Password123\n"
     ]
    },
    {
     "data": {
      "text/plain": [
       "True"
      ]
     },
     "execution_count": 11,
     "metadata": {},
     "output_type": "execute_result"
    }
   ],
   "source": [
    "login('Allie','Password123')"
   ]
  },
  {
   "cell_type": "code",
   "execution_count": null,
   "metadata": {},
   "outputs": [],
   "source": []
  }
 ],
 "metadata": {
  "kernelspec": {
   "display_name": "Python 3",
   "language": "python",
   "name": "python3"
  },
  "language_info": {
   "codemirror_mode": {
    "name": "ipython",
    "version": 3
   },
   "file_extension": ".py",
   "mimetype": "text/x-python",
   "name": "python",
   "nbconvert_exporter": "python",
   "pygments_lexer": "ipython3",
   "version": "3.8.5"
  }
 },
 "nbformat": 4,
 "nbformat_minor": 4
}
