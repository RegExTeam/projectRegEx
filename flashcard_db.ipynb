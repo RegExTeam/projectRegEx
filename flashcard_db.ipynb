{
 "cells": [
  {
   "cell_type": "code",
   "execution_count": 5,
   "metadata": {},
   "outputs": [
    {
     "name": "stdout",
     "output_type": "stream",
     "text": [
      "The sql extension is already loaded. To reload it, use:\n",
      "  %reload_ext sql\n"
     ]
    }
   ],
   "source": [
    "%load_ext sql\n",
    "%sql sqlite:////home/jovyan/Software-dev/SoftDev.db"
   ]
  },
  {
   "cell_type": "code",
   "execution_count": 6,
   "metadata": {},
   "outputs": [
    {
     "name": "stdout",
     "output_type": "stream",
     "text": [
      "   sqlite://\n",
      " * sqlite:////home/jovyan/Software-dev/SoftDev.db\n",
      "Done.\n"
     ]
    },
    {
     "data": {
      "text/plain": [
       "[]"
      ]
     },
     "execution_count": 6,
     "metadata": {},
     "output_type": "execute_result"
    }
   ],
   "source": [
    "%%sql\n",
    "create table users(\n",
    "       userID       int ,\n",
    "       username        varchar, \n",
    "       password        varchar,             \n",
    "       email     varchar            \n",
    ");\n"
   ]
  },
  {
   "cell_type": "code",
   "execution_count": 7,
   "metadata": {},
   "outputs": [
    {
     "name": "stdout",
     "output_type": "stream",
     "text": [
      "   sqlite://\n",
      " * sqlite:////home/jovyan/Software-dev/SoftDev.db\n",
      "Done.\n"
     ]
    },
    {
     "data": {
      "text/plain": [
       "[]"
      ]
     },
     "execution_count": 7,
     "metadata": {},
     "output_type": "execute_result"
    }
   ],
   "source": [
    "%%sql\n",
    "create table decks(\n",
    "       deckID       int ,\n",
    "       deckName        varchar, \n",
    "       public        varchar,             \n",
    "       category     varchar            \n",
    ");"
   ]
  },
  {
   "cell_type": "code",
   "execution_count": 8,
   "metadata": {},
   "outputs": [
    {
     "name": "stdout",
     "output_type": "stream",
     "text": [
      "   sqlite://\n",
      " * sqlite:////home/jovyan/Software-dev/SoftDev.db\n",
      "Done.\n"
     ]
    },
    {
     "data": {
      "text/plain": [
       "[]"
      ]
     },
     "execution_count": 8,
     "metadata": {},
     "output_type": "execute_result"
    }
   ],
   "source": [
    "%%sql\n",
    "create table cards(\n",
    "       cardID       int ,\n",
    "       deckID        varchar, \n",
    "       cardFront        varchar,             \n",
    "       cardBack    varchar            \n",
    ");"
   ]
  },
  {
   "cell_type": "code",
   "execution_count": 9,
   "metadata": {},
   "outputs": [
    {
     "name": "stdout",
     "output_type": "stream",
     "text": [
      "   sqlite://\n",
      " * sqlite:////home/jovyan/Software-dev/SoftDev.db\n",
      "1 rows affected.\n",
      "1 rows affected.\n",
      "1 rows affected.\n",
      "1 rows affected.\n"
     ]
    },
    {
     "data": {
      "text/plain": [
       "[]"
      ]
     },
     "execution_count": 9,
     "metadata": {},
     "output_type": "execute_result"
    }
   ],
   "source": [
    "%%sql\n",
    "insert into users values(1,'Allie','Password123', 'allie@gmail.com');\n",
    "insert into users values(2,'Joe','hello123', 'joe@gmail.com');\n",
    "insert into users values(3,'Bob','myPassword1', 'bob@gmail.com');\n",
    "insert into users values(4,'Hannah','123abc', 'hannah@gmail.com');"
   ]
  },
  {
   "cell_type": "code",
   "execution_count": 10,
   "metadata": {},
   "outputs": [
    {
     "name": "stdout",
     "output_type": "stream",
     "text": [
      "   sqlite://\n",
      " * sqlite:////home/jovyan/Software-dev/SoftDev.db\n",
      "Done.\n"
     ]
    },
    {
     "data": {
      "text/html": [
       "<table>\n",
       "    <tr>\n",
       "        <th>userID</th>\n",
       "        <th>username</th>\n",
       "        <th>password</th>\n",
       "        <th>email</th>\n",
       "    </tr>\n",
       "    <tr>\n",
       "        <td>1</td>\n",
       "        <td>Allie</td>\n",
       "        <td>Password123</td>\n",
       "        <td>allie@gmail.com</td>\n",
       "    </tr>\n",
       "    <tr>\n",
       "        <td>2</td>\n",
       "        <td>Joe</td>\n",
       "        <td>hello123</td>\n",
       "        <td>joe@gmail.com</td>\n",
       "    </tr>\n",
       "    <tr>\n",
       "        <td>3</td>\n",
       "        <td>Bob</td>\n",
       "        <td>myPassword1</td>\n",
       "        <td>bob@gmail.com</td>\n",
       "    </tr>\n",
       "    <tr>\n",
       "        <td>4</td>\n",
       "        <td>Hannah</td>\n",
       "        <td>123abc</td>\n",
       "        <td>hannah@gmail.com</td>\n",
       "    </tr>\n",
       "</table>"
      ],
      "text/plain": [
       "[(1, 'Allie', 'Password123', 'allie@gmail.com'),\n",
       " (2, 'Joe', 'hello123', 'joe@gmail.com'),\n",
       " (3, 'Bob', 'myPassword1', 'bob@gmail.com'),\n",
       " (4, 'Hannah', '123abc', 'hannah@gmail.com')]"
      ]
     },
     "execution_count": 10,
     "metadata": {},
     "output_type": "execute_result"
    }
   ],
   "source": [
    "%%sql\n",
    "select * from Users;"
   ]
  },
  {
   "cell_type": "code",
   "execution_count": null,
   "metadata": {},
   "outputs": [],
   "source": []
  }
 ],
 "metadata": {
  "kernelspec": {
   "display_name": "Python 3",
   "language": "python",
   "name": "python3"
  },
  "language_info": {
   "codemirror_mode": {
    "name": "ipython",
    "version": 3
   },
   "file_extension": ".py",
   "mimetype": "text/x-python",
   "name": "python",
   "nbconvert_exporter": "python",
   "pygments_lexer": "ipython3",
   "version": "3.8.5"
  }
 },
 "nbformat": 4,
 "nbformat_minor": 4
}
