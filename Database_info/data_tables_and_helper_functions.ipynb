{
 "cells": [
  {
   "cell_type": "code",
   "execution_count": 1,
   "metadata": {},
   "outputs": [],
   "source": [
    "import mysql.connector\n",
    "from tabulate import tabulate\n",
    "\n",
    "#to run this code you may need to install using the following: \n",
    "# pip install mysql-connector-python\n",
    "# pip install tabulate\n",
    "\n",
    "\n",
    "def connect_db():\n",
    "     mydb = mysql.connector.connect(\n",
    "      host=\"35.223.161.145\",\n",
    "      user=\"root\",\n",
    "      password=\"Allie2207\"\n",
    "      )\n",
    "     return mydb\n",
    "mydb= connect_db()\n",
    "mycursor = mydb.cursor(buffered=True)\n",
    "mycursor.execute(\"use flashcards\")"
   ]
  },
  {
   "cell_type": "code",
   "execution_count": 2,
   "metadata": {},
   "outputs": [
    {
     "name": "stdout",
     "output_type": "stream",
     "text": [
      "+----------+------------+-------------+-----------------------------+\n",
      "|   UserID | UserName   | Password    | Email                       |\n",
      "|----------+------------+-------------+-----------------------------|\n",
      "|        1 | Allie      | Password123 | allie@gmail.com             |\n",
      "|        2 | Joe        | hello123    | joe@gmail.com               |\n",
      "|        3 | Bob        | myPassword1 | bob@gmail.com               |\n",
      "|        4 | Hannah     | 123abc      | hannah@gmail.com            |\n",
      "|        5 | sam-terry  | quizzex     | sate1851@colorado.edu       |\n",
      "|        6 |            |             |                             |\n",
      "|        7 | BenRulez   | 123456789   | benjamin.price@colorado.edu |\n",
      "|        8 | Tylerc     | Cranmer5    | geocranmer@yahoo.com        |\n",
      "|        9 | Claire     | Venmo17     | clargall@hotmail.com        |\n",
      "|       10 | teewhy     | 12345       | geocranmer@yahoo.com        |\n",
      "|       11 | amoini     | kainoe123   | audreynoe.@gmail.com        |\n",
      "|       12 | test1      | test1       | test@test.com               |\n",
      "+----------+------------+-------------+-----------------------------+\n"
     ]
    }
   ],
   "source": [
    "#user table\n",
    "mycursor.execute(\"SELECT * FROM users\")\n",
    "myresult = mycursor.fetchall()\n",
    "print(tabulate(myresult, headers=['UserID', 'UserName', 'Password', 'Email'], tablefmt='psql'))"
   ]
  },
  {
   "cell_type": "code",
   "execution_count": 3,
   "metadata": {},
   "outputs": [
    {
     "name": "stdout",
     "output_type": "stream",
     "text": [
      "+-----------+-------------------------+----------+------------------+-----------+\n",
      "|   iddecks | deckname                |   public | category         | user      |\n",
      "|-----------+-------------------------+----------+------------------+-----------|\n",
      "|         1 | Data Structures         |        1 | computer science | Bob       |\n",
      "|         2 | Operating Systems       |        1 | computer science | Bob       |\n",
      "|         4 | Chemistry               |        1 | Science          | Hannah    |\n",
      "|         7 | Algorithms              |        0 | other            | Bob       |\n",
      "|         8 | Spanish Vocab           |        0 | spanish          | BenRulez  |\n",
      "|        10 | Wildlife Facts & Stuff  |        0 | other            | BenRulez  |\n",
      "|        11 | Shakespeare Quotes      |        0 | history          | BenRulez  |\n",
      "|        14 | Spanish 101             |        0 | spanish          | Claire    |\n",
      "|        20 | Quechua                 |        1 | other            | sam-terry |\n",
      "|        24 | اللغة العربية           |        1 | other            | sam-terry |\n",
      "|        34 | Fun Words               |        1 | other            | BenRulez  |\n",
      "|        38 | Masculinity Tips        |        0 | other            | sam-terry |\n",
      "|        40 | Snowboard Brands        |        0 | other            | teewhy    |\n",
      "|        43 | Robotics                |        1 | softwareDev      | amoini    |\n",
      "|        44 | Robotics                |        0 | softwareDev      | amoini    |\n",
      "|        45 | Snowboard / Brand Names |        0 | other            | Tylerc    |\n",
      "|        46 | Python                  |        1 | softwareDev      | Tylerc    |\n",
      "|        47 | Science                 |        0 | other            | Allie     |\n",
      "+-----------+-------------------------+----------+------------------+-----------+\n"
     ]
    }
   ],
   "source": [
    "#deck table\n",
    "#can perform a SQL join on deck table and user table using 'username'\n",
    "\n",
    "mycursor.execute(\"SELECT * FROM decks\")\n",
    "myresult = mycursor.fetchall()\n",
    "print(tabulate(myresult, headers=['iddecks', 'deckname', 'public', 'category', 'user'], tablefmt='psql'))"
   ]
  },
  {
   "cell_type": "code",
   "execution_count": 4,
   "metadata": {},
   "outputs": [],
   "source": [
    "id = mycursor.lastrowid\n",
    "sql = \"UPDATE decks SET deckname='Chemistry', category='Science',public=1 WHERE iddecks = 4;\"\n",
    "mycursor.execute(sql)\n",
    "mydb.commit()"
   ]
  },
  {
   "cell_type": "code",
   "execution_count": 10,
   "metadata": {},
   "outputs": [
    {
     "name": "stdout",
     "output_type": "stream",
     "text": [
      "+----------+----------+--------------------------------------------+-------------------------------------------------------------------------------------------------------------------------+\n",
      "|   cardID |   deckID | cardFront                                  | cardBack                                                                                                                |\n",
      "|----------+----------+--------------------------------------------+-------------------------------------------------------------------------------------------------------------------------|\n",
      "|        1 |        1 | Binary Search Tree                         | rooted binary tree whose nodes store key greater than keys in the nodes left subtree and less than in right subtree     |\n",
      "|        2 |        1 | Hash table                                 | uses a hash function to compute an index into an array of buckets or slots, from which the desired value can be found   |\n",
      "|        3 |        1 | Linked List                                | linked list consists of nodes where each node contains a data field and a reference(link) to the next node in the list. |\n",
      "|        4 |        2 | Kernel                                     | Provides file-system, CPU scheduling, and other OS functionality through system calls                                   |\n",
      "|        5 |        2 | Mode Bit                                   | The computer uses the mode bit to determine if the system is in kernel or user mode.                                    |\n",
      "|        6 |        2 | Process                                    | Program in execution. Operating-system processes execute system code, and user processes execute user code.             |\n",
      "|       23 |        8 | Hola                                       | hello                                                                                                                   |\n",
      "|       24 |        8 | Adios                                      | goodbye                                                                                                                 |\n",
      "|       25 |       10 | Birds                                      | The birds is the words.                                                                                                 |\n",
      "|       27 |        8 | Correr                                     | to run                                                                                                                  |\n",
      "|       28 |       34 | Skippidy-Boo                               | A best friend                                                                                                           |\n",
      "|       29 |        8 | ¿Como estás?                               | How are you?                                                                                                            |\n",
      "|       30 |        8 | estudiar                                   | to study                                                                                                                |\n",
      "|       31 |        8 | aprender                                   | to learn                                                                                                                |\n",
      "|       32 |       34 | Hotsy-Totsy                                | perfect; similar to cat's pajamas                                                                                       |\n",
      "|       33 |       34 | Horsefeathers                              | explitive; what someone said is a crock of it                                                                           |\n",
      "|       34 |       38 | Name the two primary fonts of manly wisdom | The father and the illustrious Uncle                                                                                    |\n",
      "|       35 |       10 | Reindeer                                   | Are reindeer really considered wildlife?  This question has plagued the North Pole research community for decades.      |\n",
      "|       43 |          | card 1                                     | back 1                                                                                                                  |\n",
      "|       47 |       45 | Ripcord                                    | Burton Snowboards                                                                                                       |\n",
      "|       48 |       45 | Head Space                                 | GNU                                                                                                                     |\n",
      "|       49 |       45 | Foundation                                 | Arbor                                                                                                                   |\n",
      "|       50 |       45 | Defenders of Awesome                       | CAPiTA                                                                                                                  |\n",
      "|       51 |       45 | Darkside                                   | K2                                                                                                                      |\n",
      "|       52 |       45 | Pulse                                      | Salomon                                                                                                                 |\n",
      "|       53 |       45 | Custom                                     | Burton                                                                                                                  |\n",
      "|       54 |       45 | Artifact                                   | Rome                                                                                                                    |\n",
      "|       55 |       45 | AlterEgo                                   | Ride                                                                                                                    |\n",
      "|       56 |       45 | DeepThinker                                | Burton                                                                                                                  |\n",
      "|       57 |       45 | Hovercraft                                 | Jones                                                                                                                   |\n",
      "|       58 |       46 | len(x)                                     | returns the length of x (s, L or D)                                                                                     |\n",
      "|       60 |       46 | min(L)                                     | returns the minimum value in L                                                                                          |\n",
      "|       61 |       46 | max(L)                                     | returns the maximum value in L                                                                                          |\n",
      "|       62 |       46 | sum(L)                                     | returns the sum of the values in L                                                                                      |\n",
      "|       64 |       46 | abs(n)                                     | returns the absolute value of n                                                                                         |\n",
      "|       70 |        4 | Li                                         | Lithium                                                                                                                 |\n",
      "|       71 |       47 | my card                                    | my card back                                                                                                            |\n",
      "|       72 |        4 | Si                                         | Silicon                                                                                                                 |\n",
      "|       73 |        4 | Cu                                         | Copper                                                                                                                  |\n",
      "+----------+----------+--------------------------------------------+-------------------------------------------------------------------------------------------------------------------------+\n"
     ]
    }
   ],
   "source": [
    "#flashcard table \n",
    "#can join cards table and deck tables on card.cardID = deck.deckID, and can join deck.user = user.UserName so all table can interact with each other \n",
    "\n",
    "mycursor.execute(\"SELECT * FROM cards\")\n",
    "myresult = mycursor.fetchall()\n",
    "print(tabulate(myresult, headers=['cardID', 'deckID', 'cardFront', 'cardBack'], tablefmt='psql'))"
   ]
  },
  {
   "cell_type": "code",
   "execution_count": 7,
   "metadata": {},
   "outputs": [],
   "source": [
    "#helper functions to use to access database (CRUD function- create, read, update, delete functions)\n",
    "\n",
    "#functions to CREATE entries\n",
    "\n",
    "#function to call to add a new user to the user table when they create account\n",
    "def add_user(new_username, new_password, new_email):\n",
    "    id = mycursor.lastrowid\n",
    "    sql = \"INSERT INTO users (username, password, email) VALUES (%s, %s, %s)\"\n",
    "    val = (new_username, new_password, new_email)\n",
    "    mycursor.execute(sql, val)\n",
    "    mydb.commit()\n",
    "    print(mycursor.rowcount, \"record inserted.\")\n",
    "    \n",
    "#function to call when user creates a new deck to add into database (will use a session variable to pass in username) \n",
    "def add_deck(username, public, deckname, category):\n",
    "    id = mycursor.lastrowid\n",
    "    sql = \"INSERT INTO users (deckname,public, category, username) VALUES (%s, %s, %s, %s)\"\n",
    "    val = (deckname, public, category, username)\n",
    "    mycursor.execute(sql, val)\n",
    "    mydb.commit()\n",
    "    print(mycursor.rowcount, \"record inserted.\")\n",
    "    \n",
    "#function to create new card\n",
    "def add_card(deckID, cardFront, cardBack):\n",
    "    id = mycursor.lastrowid\n",
    "    sql = \"INSERT INTO cards (deckID, cardFront, cardBack) VALUES (%s, %s, %s)\"\n",
    "    val = (deckID,cardFront, cardBack)\n",
    "    mycursor.execute(sql, val)\n",
    "    mydb.commit()\n",
    "    print(mycursor.rowcount, \"record inserted.\")\n"
   ]
  },
  {
   "cell_type": "code",
   "execution_count": 9,
   "metadata": {},
   "outputs": [
    {
     "name": "stdout",
     "output_type": "stream",
     "text": [
      "1 record inserted.\n"
     ]
    }
   ],
   "source": [
    "add_card(4,'Cu','Copper')"
   ]
  },
  {
   "cell_type": "code",
   "execution_count": null,
   "metadata": {},
   "outputs": [],
   "source": [
    "#functions to READ/retrieve data from database\n",
    "\n",
    "#function to get user info from database\n",
    "def get_user(username):\n",
    "    sql = \"SELECT * FROM users WHERE username = %s\"\n",
    "    val=(username, )\n",
    "    mycursor.execute(sql,val)\n",
    "    myresult = mycursor.fetchall()\n",
    "    if len(myresult) == 0:\n",
    "        return None\n",
    "    else:\n",
    "        return myresult[0]\n",
    "\n",
    "\n"
   ]
  },
  {
   "cell_type": "code",
   "execution_count": null,
   "metadata": {},
   "outputs": [],
   "source": []
  },
  {
   "cell_type": "code",
   "execution_count": null,
   "metadata": {},
   "outputs": [],
   "source": [
    "#sql = \"SELECT * FROM users WHERE username = 'Allie'\"\n",
    "#mycursor.execute(sql)\n",
    "#myresult = mycursor.fetchall()\n",
    "#for x in myresult:\n",
    "#    print(x)\n"
   ]
  },
  {
   "cell_type": "code",
   "execution_count": null,
   "metadata": {},
   "outputs": [],
   "source": [
    "x = get_user('Allie')\n",
    "print(x)"
   ]
  },
  {
   "cell_type": "code",
   "execution_count": null,
   "metadata": {},
   "outputs": [],
   "source": [
    "sql = \"SELECT * FROM users\"\n",
    "mycursor.execute(sql)\n",
    "myresult = mycursor.fetchall()\n",
    "for x in myresult:\n",
    "    print(x)"
   ]
  },
  {
   "cell_type": "code",
   "execution_count": null,
   "metadata": {},
   "outputs": [],
   "source": [
    "#add_user('Tom', 'qwerty123', 'tom@gmail.com')"
   ]
  },
  {
   "cell_type": "code",
   "execution_count": null,
   "metadata": {},
   "outputs": [],
   "source": [
    "#get all public decks\n",
    "def get_public_decks():\n",
    "    sql=\"SELECT deckname, iddecks FROM decks WHERE public = 1\"\n",
    "    mycursor.execute(sql)\n",
    "    myresult = mycursor.fetchall()\n",
    "    if len(myresult) == 0:\n",
    "        return None\n",
    "    else:\n",
    "        return myresult\n",
    "\n"
   ]
  },
  {
   "cell_type": "code",
   "execution_count": null,
   "metadata": {},
   "outputs": [],
   "source": [
    "get_public_decks()"
   ]
  },
  {
   "cell_type": "code",
   "execution_count": null,
   "metadata": {},
   "outputs": [],
   "source": [
    "def get_deckID(deckname):\n",
    "    sql = \"SELECT iddecks FROM decks WHERE deckname = %s\"\n",
    "    val=(deckname, )\n",
    "    mycursor.execute(sql,val)\n",
    "    myresult = mycursor.fetchall()\n",
    "    if len(myresult) == 0:\n",
    "        return None\n",
    "    else:\n",
    "        return myresult[0][0]\n",
    "def remove_deck(username, deckname):\n",
    "    val1 = (get_deckID(deckname), )\n",
    "    sql1 = (\"DELETE cards FROM cards WHERE deckID = %s\")\n",
    "    print(val1)\n",
    "    mycursor.execute(sql1,val1)\n",
    "    sql2 = (\"DELETE decks FROM decks WHERE username = %s AND deckname = %s\")\n",
    "    val2=(username, deckname)\n",
    "    mycursor.execute(sql2,val2)\n",
    "    mydb.commit()\n",
    "    return(\"Deck Deleted\")"
   ]
  },
  {
   "cell_type": "code",
   "execution_count": null,
   "metadata": {},
   "outputs": [],
   "source": [
    "remove_deck('Hannah','Chemistry')"
   ]
  },
  {
   "cell_type": "code",
   "execution_count": null,
   "metadata": {},
   "outputs": [],
   "source": [
    "def remove_card(card_id):\n",
    "    sql=(\"DELETE cards from cards WHERE idcards = %s\")\n",
    "    val=(card_id, )\n",
    "    mycursor.execute(sql,val)\n",
    "    mydb.commit()\n",
    "    return(\"Card Deleted\")"
   ]
  },
  {
   "cell_type": "code",
   "execution_count": null,
   "metadata": {},
   "outputs": [],
   "source": [
    "remove_card(69)"
   ]
  },
  {
   "cell_type": "code",
   "execution_count": null,
   "metadata": {},
   "outputs": [],
   "source": []
  }
 ],
 "metadata": {
  "kernelspec": {
   "display_name": "Python 3",
   "language": "python",
   "name": "python3"
  },
  "language_info": {
   "codemirror_mode": {
    "name": "ipython",
    "version": 3
   },
   "file_extension": ".py",
   "mimetype": "text/x-python",
   "name": "python",
   "nbconvert_exporter": "python",
   "pygments_lexer": "ipython3",
   "version": "3.8.5"
  }
 },
 "nbformat": 4,
 "nbformat_minor": 4
}
