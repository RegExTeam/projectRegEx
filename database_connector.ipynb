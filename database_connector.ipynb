{
 "cells": [
  {
   "cell_type": "code",
   "execution_count": 30,
   "metadata": {},
   "outputs": [
    {
     "name": "stdout",
     "output_type": "stream",
     "text": [
      "<mysql.connector.connection_cext.CMySQLConnection object at 0x7f4ccc1631f0>\n"
     ]
    }
   ],
   "source": [
    "import mysql.connector\n",
    "\n",
    "mydb = mysql.connector.connect(\n",
    "  host=\"35.223.161.145\",\n",
    "  user=\"root\",\n",
    "  password=\"\"\n",
    ")\n",
    "\n",
    "print(mydb)"
   ]
  },
  {
   "cell_type": "code",
   "execution_count": 31,
   "metadata": {},
   "outputs": [
    {
     "name": "stdout",
     "output_type": "stream",
     "text": [
      "(1, 'Allie', 'Password123', 'allie@gmail.com')\n",
      "(2, 'Joe', 'hello123', 'joe@gmail.com')\n",
      "(3, 'Bob', 'myPassword1', 'bob@gmail.com')\n",
      "(4, 'Hannah', '123abc', 'hannah@gmail.com')\n"
     ]
    }
   ],
   "source": [
    "mycursor = mydb.cursor()\n",
    "\n",
    "mycursor.execute(\"use flashcards\")\n",
    "\n",
    "mycursor.execute(\"SELECT * FROM users\")\n",
    "\n",
    "\n",
    "myresult = mycursor.fetchall()\n",
    "\n",
    "for x in myresult:\n",
    "    print(x)\n"
   ]
  },
  {
   "cell_type": "code",
   "execution_count": 32,
   "metadata": {},
   "outputs": [
    {
     "name": "stdout",
     "output_type": "stream",
     "text": [
      "(1, 'data structures', 'public', 'computer science', 'Bob')\n",
      "(2, 'operating systems', 'public', 'computer science', 'Bob')\n",
      "(3, 'World War 1', 'private', 'History', 'Hannah')\n",
      "(4, 'World War 2', 'private', 'History', 'Hannah')\n",
      "(5, 'chemistry', 'private', 'Science', 'Allie')\n"
     ]
    }
   ],
   "source": [
    "result = mycursor.execute(\"SELECT * FROM decks\")\n",
    "myresult = mycursor.fetchall()\n",
    "for x in myresult:\n",
    "    print(x)"
   ]
  },
  {
   "cell_type": "code",
   "execution_count": 33,
   "metadata": {},
   "outputs": [
    {
     "name": "stdout",
     "output_type": "stream",
     "text": [
      "(1, '1', 'Binary Search Tree', ' rooted binary tree whose internal nodes each store a key greater than all the keys in the nodes left subtree and less than those in its right subtree')\n",
      "(2, '1', 'Hash table', '  A hash table uses a hash function to compute an index, also called a hash code, into an array of buckets or slots, from which the desired value can be found')\n",
      "(3, '1', 'Linked List', ' a linked list consists of nodes where each node contains a data field and a reference(link) to the next node in the list.')\n",
      "(4, '2', 'Kernel', ' Provides file-system, CPU scheduling, and other OS functionality through system calls')\n",
      "(5, '2', 'Mode Bit', 'The computer uses the mode bit to determine if the system is in kernel or user mode.')\n",
      "(6, '2', 'Process', 'Program in execution. Operating-system processes execute system code, and user processes execute user code.')\n"
     ]
    }
   ],
   "source": [
    "mycursor.execute(\"SELECT * FROM cards\")\n",
    "result2 = mycursor.fetchall()\n",
    "for x in result2:\n",
    "    print(x)"
   ]
  },
  {
   "cell_type": "code",
   "execution_count": 40,
   "metadata": {},
   "outputs": [
    {
     "name": "stdout",
     "output_type": "stream",
     "text": [
      "('data structures', 'Binary Search Tree', ' rooted binary tree whose internal nodes each store a key greater than all the keys in the nodes left subtree and less than those in its right subtree')\n",
      "('data structures', 'Hash table', '  A hash table uses a hash function to compute an index, also called a hash code, into an array of buckets or slots, from which the desired value can be found')\n",
      "('data structures', 'Linked List', ' a linked list consists of nodes where each node contains a data field and a reference(link) to the next node in the list.')\n",
      "('operating systems', 'Kernel', ' Provides file-system, CPU scheduling, and other OS functionality through system calls')\n",
      "('operating systems', 'Mode Bit', 'The computer uses the mode bit to determine if the system is in kernel or user mode.')\n",
      "('operating systems', 'Process', 'Program in execution. Operating-system processes execute system code, and user processes execute user code.')\n"
     ]
    }
   ],
   "source": [
    "sql = \"SELECT \\\n",
    "  decks.deckname AS deckname, \\\n",
    "  cards.cardFront AS cardfront, \\\n",
    "  cards.cardBack AS cardback \\\n",
    "  FROM decks \\\n",
    "  INNER JOIN cards ON decks.iddecks = cards.deckID \\\n",
    "    WHERE decks.user ='Bob'\"\n",
    "\n",
    "mycursor.execute(sql)\n",
    "\n",
    "myresult = mycursor.fetchall()\n",
    "\n",
    "for x in myresult:\n",
    "    print(x)"
   ]
  },
  {
   "cell_type": "code",
   "execution_count": null,
   "metadata": {},
   "outputs": [],
   "source": []
  }
 ],
 "metadata": {
  "kernelspec": {
   "display_name": "Python 3",
   "language": "python",
   "name": "python3"
  },
  "language_info": {
   "codemirror_mode": {
    "name": "ipython",
    "version": 3
   },
   "file_extension": ".py",
   "mimetype": "text/x-python",
   "name": "python",
   "nbconvert_exporter": "python",
   "pygments_lexer": "ipython3",
   "version": "3.8.5"
  }
 },
 "nbformat": 4,
 "nbformat_minor": 4
}
