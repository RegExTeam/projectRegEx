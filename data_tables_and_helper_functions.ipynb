{
 "cells": [
  {
   "cell_type": "code",
   "execution_count": 42,
   "metadata": {},
   "outputs": [],
   "source": [
    "import mysql.connector\n",
    "from tabulate import tabulate\n",
    "\n",
    "#to run this code you may need to install using the following: \n",
    "# pip install mysql-connector-python\n",
    "# pip install tabulate\n",
    "\n",
    "\n",
    "def connect_db():\n",
    "     mydb = mysql.connector.connect(\n",
    "      host=\"35.223.161.145\",\n",
    "      user=\"root\",\n",
    "      password=\"Allie2207\"\n",
    "      )\n",
    "     return mydb\n",
    "mydb= connect_db()\n",
    "mycursor = mydb.cursor(buffered=True)\n",
    "mycursor.execute(\"use flashcards\")"
   ]
  },
  {
   "cell_type": "code",
   "execution_count": 52,
   "metadata": {},
   "outputs": [
    {
     "name": "stdout",
     "output_type": "stream",
     "text": [
      "+----------+------------+-------------+------------------+\n",
      "|   UserID | UserName   | Password    | Email            |\n",
      "|----------+------------+-------------+------------------|\n",
      "|        1 | Allie      | Password123 | allie@gmail.com  |\n",
      "|        2 | Joe        | hello123    | joe@gmail.com    |\n",
      "|        3 | Bob        | myPassword1 | bob@gmail.com    |\n",
      "|        4 | Hannah     | 123abc      | hannah@gmail.com |\n",
      "|        5 | Tom        | qwerty123   | tom@gmail.com    |\n",
      "+----------+------------+-------------+------------------+\n"
     ]
    }
   ],
   "source": [
    "#user table\n",
    "mycursor.execute(\"SELECT * FROM users\")\n",
    "myresult = mycursor.fetchall()\n",
    "print(tabulate(myresult, headers=['UserID', 'UserName', 'Password', 'Email'], tablefmt='psql'))"
   ]
  },
  {
   "cell_type": "code",
   "execution_count": 43,
   "metadata": {},
   "outputs": [
    {
     "name": "stdout",
     "output_type": "stream",
     "text": [
      "+-----------+-------------------+----------+------------------+--------+\n",
      "|   iddecks | deckname          |   public | category         | user   |\n",
      "|-----------+-------------------+----------+------------------+--------|\n",
      "|         1 | data structures   |        1 | computer science | Bob    |\n",
      "|         2 | operating systems |        1 | computer science | Bob    |\n",
      "|         3 | World War 1       |        0 | History          | Hannah |\n",
      "|         4 | World War 2       |        0 | History          | Hannah |\n",
      "|         5 | chemistry         |        0 | Science          | Allie  |\n",
      "+-----------+-------------------+----------+------------------+--------+\n"
     ]
    }
   ],
   "source": [
    "#deck table\n",
    "#can perform a SQL join on deck table and user table using 'username'\n",
    "\n",
    "mycursor.execute(\"SELECT * FROM decks\")\n",
    "myresult = mycursor.fetchall()\n",
    "print(tabulate(myresult, headers=['iddecks', 'deckname', 'public', 'category', 'user'], tablefmt='psql'))"
   ]
  },
  {
   "cell_type": "code",
   "execution_count": 44,
   "metadata": {},
   "outputs": [
    {
     "name": "stdout",
     "output_type": "stream",
     "text": [
      "+----------+----------+--------------------+-------------------------------------------------------------------------------------------------------------------------+\n",
      "|   cardID |   deckID | cardFront          | cardBack                                                                                                                |\n",
      "|----------+----------+--------------------+-------------------------------------------------------------------------------------------------------------------------|\n",
      "|        1 |        1 | Binary Search Tree | rooted binary tree whose nodes store key greater than keys in the nodes left subtree and less than in right subtree     |\n",
      "|        2 |        1 | Hash table         | uses a hash function to compute an index into an array of buckets or slots, from which the desired value can be found   |\n",
      "|        3 |        1 | Linked List        | linked list consists of nodes where each node contains a data field and a reference(link) to the next node in the list. |\n",
      "|        4 |        2 | Kernel             | Provides file-system, CPU scheduling, and other OS functionality through system calls                                   |\n",
      "|        5 |        2 | Mode Bit           | The computer uses the mode bit to determine if the system is in kernel or user mode.                                    |\n",
      "|        6 |        2 | Process            | Program in execution. Operating-system processes execute system code, and user processes execute user code.             |\n",
      "+----------+----------+--------------------+-------------------------------------------------------------------------------------------------------------------------+\n"
     ]
    }
   ],
   "source": [
    "#flashcard table \n",
    "#can join cards table and deck tables on card.cardID = deck.deckID, and can join deck.user = user.UserName so all table can interact with each other \n",
    "\n",
    "mycursor.execute(\"SELECT * FROM cards\")\n",
    "myresult = mycursor.fetchall()\n",
    "print(tabulate(myresult, headers=['cardID', 'deckID', 'cardFront', 'cardBack'], tablefmt='psql'))"
   ]
  },
  {
   "cell_type": "code",
   "execution_count": 45,
   "metadata": {},
   "outputs": [],
   "source": [
    "#helper functions to use to access database (CRUD function- create, read, update, delete functions)\n",
    "\n",
    "#functions to CREATE entries\n",
    "\n",
    "#function to call to add a new user to the user table when they create account\n",
    "def add_user(new_username, new_password, new_email):\n",
    "    id = mycursor.lastrowid\n",
    "    sql = \"INSERT INTO users (username, password, email) VALUES (%s, %s, %s)\"\n",
    "    val = (new_username, new_password, new_email)\n",
    "    mycursor.execute(sql, val)\n",
    "    mydb.commit()\n",
    "    print(mycursor.rowcount, \"record inserted.\")\n",
    "    \n",
    "#function to call when user creates a new deck to add into database (will use a session variable to pass in username) \n",
    "def add_deck(username, public, deckname, category):\n",
    "    id = mycursor.lastrowid\n",
    "    sql = \"INSERT INTO users (deckname,public, category, username) VALUES (%s, %s, %s, %s)\"\n",
    "    val = (deckname, public, category, username)\n",
    "    mycursor.execute(sql, val)\n",
    "    mydb.commit()\n",
    "    print(mycursor.rowcount, \"record inserted.\")\n",
    "    \n",
    "#function to create new card\n",
    "def add_card(deckID, cardFront, cardBack):\n",
    "    id = mycursor.lastrowid\n",
    "    sql = \"INSERT INTO users (deckID, cardFront, cardBack) VALUES (%s, %s, %s)\"\n",
    "    val = (deckID,cardFront, cardBack)\n",
    "    mycursor.execute(sql, val)\n",
    "    mydb.commit()\n",
    "    print(mycursor.rowcount, \"record inserted.\")\n"
   ]
  },
  {
   "cell_type": "code",
   "execution_count": 56,
   "metadata": {},
   "outputs": [],
   "source": [
    "#functions to READ/retrieve data from database\n",
    "\n",
    "#function to get user info from database\n",
    "def get_user(username):\n",
    "    sql = \"SELECT * FROM users WHERE username = %s\"\n",
    "    val=(username, )\n",
    "    mycursor.execute(sql,val)\n",
    "    myresult = mycursor.fetchall()\n",
    "    if len(myresult) == 0:\n",
    "        return None\n",
    "    else:\n",
    "        return myresult[0]\n",
    "\n",
    "\n"
   ]
  },
  {
   "cell_type": "code",
   "execution_count": null,
   "metadata": {},
   "outputs": [],
   "source": []
  },
  {
   "cell_type": "code",
   "execution_count": 4,
   "metadata": {},
   "outputs": [
    {
     "name": "stdout",
     "output_type": "stream",
     "text": [
      "(1, 'Allie', 'Password123', 'allie@gmail.com')\n"
     ]
    }
   ],
   "source": [
    "#sql = \"SELECT * FROM users WHERE username = 'Allie'\"\n",
    "#mycursor.execute(sql)\n",
    "#myresult = mycursor.fetchall()\n",
    "#for x in myresult:\n",
    "#    print(x)\n"
   ]
  },
  {
   "cell_type": "code",
   "execution_count": 57,
   "metadata": {},
   "outputs": [
    {
     "name": "stdout",
     "output_type": "stream",
     "text": [
      "(1, 'Allie', 'Password123', 'allie@gmail.com')\n"
     ]
    }
   ],
   "source": [
    "x = get_user('Allie')\n",
    "print(x)"
   ]
  },
  {
   "cell_type": "code",
   "execution_count": 37,
   "metadata": {},
   "outputs": [
    {
     "name": "stdout",
     "output_type": "stream",
     "text": [
      "(1, 'Allie', 'Password123', 'allie@gmail.com')\n",
      "(2, 'Joe', 'hello123', 'joe@gmail.com')\n",
      "(3, 'Bob', 'myPassword1', 'bob@gmail.com')\n",
      "(4, 'Hannah', '123abc', 'hannah@gmail.com')\n",
      "(5, 'Tom', 'qwerty123', 'tom@gmail.com')\n"
     ]
    }
   ],
   "source": [
    "sql = \"SELECT * FROM users\"\n",
    "mycursor.execute(sql)\n",
    "myresult = mycursor.fetchall()\n",
    "for x in myresult:\n",
    "    print(x)"
   ]
  },
  {
   "cell_type": "code",
   "execution_count": 46,
   "metadata": {},
   "outputs": [
    {
     "name": "stdout",
     "output_type": "stream",
     "text": [
      "1 record inserted.\n"
     ]
    }
   ],
   "source": [
    "#add_user('Tom', 'qwerty123', 'tom@gmail.com')"
   ]
  },
  {
   "cell_type": "code",
   "execution_count": 51,
   "metadata": {},
   "outputs": [],
   "source": []
  },
  {
   "cell_type": "code",
   "execution_count": null,
   "metadata": {},
   "outputs": [],
   "source": []
  }
 ],
 "metadata": {
  "kernelspec": {
   "display_name": "Python 3",
   "language": "python",
   "name": "python3"
  },
  "language_info": {
   "codemirror_mode": {
    "name": "ipython",
    "version": 3
   },
   "file_extension": ".py",
   "mimetype": "text/x-python",
   "name": "python",
   "nbconvert_exporter": "python",
   "pygments_lexer": "ipython3",
   "version": "3.8.5"
  }
 },
 "nbformat": 4,
 "nbformat_minor": 4
}
