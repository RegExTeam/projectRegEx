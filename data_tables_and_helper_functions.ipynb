{
 "cells": [
  {
   "cell_type": "code",
   "execution_count": 10,
   "metadata": {},
   "outputs": [],
   "source": [
    "import mysql.connector\n",
    "from tabulate import tabulate\n",
    "\n",
    "#to run this code you may need to install using the following: \n",
    "# pip install mysql-connector-python\n",
    "# pip install tabulate\n",
    "\n",
    "\n",
    "def connect_db():\n",
    "     mydb = mysql.connector.connect(\n",
    "      host=\"35.223.161.145\",\n",
    "      user=\"root\",\n",
    "      password=\"\"\n",
    "      )\n",
    "     return mydb\n",
    "mydb= connect_db()\n",
    "mycursor = mydb.cursor(buffered=True)\n",
    "mycursor.execute(\"use flashcards\")"
   ]
  },
  {
   "cell_type": "code",
   "execution_count": 12,
   "metadata": {},
   "outputs": [
    {
     "name": "stdout",
     "output_type": "stream",
     "text": [
      "+----------+------------+-------------+------------------+\n",
      "|   UserID | UserName   | Password    | Email            |\n",
      "|----------+------------+-------------+------------------|\n",
      "|        1 | Allie      | Password123 | allie@gmail.com  |\n",
      "|        2 | Joe        | hello123    | joe@gmail.com    |\n",
      "|        3 | Bob        | myPassword1 | bob@gmail.com    |\n",
      "|        4 | Hannah     | 123abc      | hannah@gmail.com |\n",
      "+----------+------------+-------------+------------------+\n"
     ]
    }
   ],
   "source": [
    "mycursor.execute(\"SELECT * FROM users\")\n",
    "myresult = mycursor.fetchall()\n",
    "print(tabulate(myresult, headers=['UserID', 'UserName', 'Password', 'Email'], tablefmt='psql'))"
   ]
  },
  {
   "cell_type": "code",
   "execution_count": 14,
   "metadata": {},
   "outputs": [
    {
     "name": "stdout",
     "output_type": "stream",
     "text": [
      "+-----------+-------------------+----------+------------------+--------+\n",
      "|   iddecks | deckname          | public   | category         | user   |\n",
      "|-----------+-------------------+----------+------------------+--------|\n",
      "|         1 | data structures   | public   | computer science | Bob    |\n",
      "|         2 | operating systems | public   | computer science | Bob    |\n",
      "|         3 | World War 1       | private  | History          | Hannah |\n",
      "|         4 | World War 2       | private  | History          | Hannah |\n",
      "|         5 | chemistry         | private  | Science          | Allie  |\n",
      "+-----------+-------------------+----------+------------------+--------+\n"
     ]
    }
   ],
   "source": [
    "#can perform a SQL join on deck table and user table using 'username'\n",
    "\n",
    "mycursor.execute(\"SELECT * FROM decks\")\n",
    "myresult = mycursor.fetchall()\n",
    "print(tabulate(myresult, headers=['iddecks', 'deckname', 'public', 'category', 'user'], tablefmt='psql'))"
   ]
  },
  {
   "cell_type": "code",
   "execution_count": 17,
   "metadata": {},
   "outputs": [
    {
     "name": "stdout",
     "output_type": "stream",
     "text": [
      "+----------+----------+--------------------+--------------------------------------------------------------------------------------------------------------------------------------------------------------+\n",
      "|   cardID |   deckID | cardFront          | cardBack                                                                                                                                                     |\n",
      "|----------+----------+--------------------+--------------------------------------------------------------------------------------------------------------------------------------------------------------|\n",
      "|        1 |        1 | Binary Search Tree | rooted binary tree whose internal nodes each store a key greater than all the keys in the nodes left subtree and less than those in its right subtree        |\n",
      "|        2 |        1 | Hash table         | A hash table uses a hash function to compute an index, also called a hash code, into an array of buckets or slots, from which the desired value can be found |\n",
      "|        3 |        1 | Linked List        | a linked list consists of nodes where each node contains a data field and a reference(link) to the next node in the list.                                    |\n",
      "|        4 |        2 | Kernel             | Provides file-system, CPU scheduling, and other OS functionality through system calls                                                                        |\n",
      "|        5 |        2 | Mode Bit           | The computer uses the mode bit to determine if the system is in kernel or user mode.                                                                         |\n",
      "|        6 |        2 | Process            | Program in execution. Operating-system processes execute system code, and user processes execute user code.                                                  |\n",
      "+----------+----------+--------------------+--------------------------------------------------------------------------------------------------------------------------------------------------------------+\n"
     ]
    }
   ],
   "source": [
    "#can join cards table and deck tables on card.cardID = deck.deckID, and can join deck.user = user.UserName so all table can interact with each other \n",
    "\n",
    "mycursor.execute(\"SELECT * FROM cards\")\n",
    "myresult = mycursor.fetchall()\n",
    "print(tabulate(myresult, headers=['cardID', 'deckID', 'cardFront', 'cardBack'], tablefmt='psql'))"
   ]
  },
  {
   "cell_type": "code",
   "execution_count": 18,
   "metadata": {},
   "outputs": [],
   "source": [
    "#functions to add entries\n",
    "\n",
    "#function to call to add a new user to the user table when they create account\n",
    "def add_user(new_username, new_password, new_email):\n",
    "    id = cursor.lastrowid\n",
    "    sql = \"INSERT INTO users (username, password, email) VALUES (%s, %s, %s)\"\n",
    "    val = (new_username, new_password, new_email)\n",
    "    mycursor.execute(sql, val)\n",
    "    mydb.commit()\n",
    "    print(mycursor.rowcount, \"record inserted.\")\n",
    "    \n",
    "#function to call when user creates a new deck to add into database \n",
    "def add_deck(username, public, deckname, category):\n",
    "    id = cursor.lastrowid\n",
    "    sql = \"INSERT INTO users (username, public, deckname, category) VALUES (%s, %s, %s, %s)\"\n",
    "    val = (username, public, deckname, category)\n",
    "    mycursor.execute(sql, val)\n",
    "    mydb.commit()\n",
    "    print(mycursor.rowcount, \"record inserted.\")"
   ]
  },
  {
   "cell_type": "code",
   "execution_count": 19,
   "metadata": {},
   "outputs": [],
   "source": [
    "#function to get user info from database\n",
    "\n",
    "def get_user(username):\n",
    "    sql = \"SELECT * FROM users WHERE username = %s\"\n",
    "    val=(username, )\n",
    "    mycursor.execute(sql,val)\n",
    "    myresult = mycursor.fetchall()\n",
    "    if len(myresult) == 0:\n",
    "        return None\n",
    "    else:\n",
    "        return myresult[0]\n",
    "\n",
    "\n"
   ]
  },
  {
   "cell_type": "code",
   "execution_count": null,
   "metadata": {},
   "outputs": [],
   "source": []
  },
  {
   "cell_type": "code",
   "execution_count": 4,
   "metadata": {},
   "outputs": [
    {
     "name": "stdout",
     "output_type": "stream",
     "text": [
      "(1, 'Allie', 'Password123', 'allie@gmail.com')\n"
     ]
    }
   ],
   "source": [
    "#sql = \"SELECT * FROM users WHERE username = 'Allie'\"\n",
    "#mycursor.execute(sql)\n",
    "#myresult = mycursor.fetchall()\n",
    "#for x in myresult:\n",
    "#    print(x)\n"
   ]
  },
  {
   "cell_type": "code",
   "execution_count": 56,
   "metadata": {},
   "outputs": [
    {
     "name": "stdout",
     "output_type": "stream",
     "text": [
      "(1, 'Allie', 'Password123', 'allie@gmail.com')\n"
     ]
    }
   ],
   "source": [
    "#x = get_user('Allie')\n",
    "#print(x)"
   ]
  },
  {
   "cell_type": "code",
   "execution_count": null,
   "metadata": {},
   "outputs": [],
   "source": []
  }
 ],
 "metadata": {
  "kernelspec": {
   "display_name": "Python 3",
   "language": "python",
   "name": "python3"
  },
  "language_info": {
   "codemirror_mode": {
    "name": "ipython",
    "version": 3
   },
   "file_extension": ".py",
   "mimetype": "text/x-python",
   "name": "python",
   "nbconvert_exporter": "python",
   "pygments_lexer": "ipython3",
   "version": "3.8.5"
  }
 },
 "nbformat": 4,
 "nbformat_minor": 4
}
